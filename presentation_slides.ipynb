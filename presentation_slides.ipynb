{
 "cells": [
  {
   "cell_type": "code",
   "execution_count": 16,
   "metadata": {
    "slideshow": {
     "slide_type": "skip"
    },
    "urth": {
     "dashboard": {
      "layout": {
       "col": 4,
       "height": 4,
       "row": 0,
       "width": 4
      }
     }
    }
   },
   "outputs": [
    {
     "data": {
      "text/plain": [
       "{'start_slideshow_at': 'selected', 'theme': 'serif', 'transition': 'None'}"
      ]
     },
     "execution_count": 16,
     "metadata": {},
     "output_type": "execute_result"
    }
   ],
   "source": [
    "# Next code is used to personalize the slides format. \n",
    "# The customization of the slides was not working for RISE after resuming the presentation, check issue \n",
    "# https://github.com/damianavila/RISE/issues/225\n",
    "#from traitlets.config.manager import BaseJSONConfigManager\n",
    "#path = \"/Users/camilocardona/anaconda/etc/jupyter/nbconfig\"\n",
    "#cm = BaseJSONConfigManager(config_dir=path)\n",
    "#cm.update('livereveal', {\n",
    "#              'theme': 'serif',\n",
    "#              'transition': 'None',\n",
    "#              'start_slideshow_at': 'selected',\n",
    "#})"
   ]
  },
  {
   "cell_type": "code",
   "execution_count": 17,
   "metadata": {
    "collapsed": true,
    "slideshow": {
     "slide_type": "skip"
    },
    "urth": {
     "dashboard": {}
    }
   },
   "outputs": [],
   "source": [
    "import ipywidgets as widgets\n",
    "from IPython.display import display \n",
    "from IPython.display import Image\n",
    "import pandas as pd\n",
    "import ipympl\n",
    "import matplotlib.pyplot as plt\n",
    "from dashboard_auxiliary_functions import process_df_for_widget, hover"
   ]
  },
  {
   "cell_type": "code",
   "execution_count": 32,
   "metadata": {
    "collapsed": true,
    "slideshow": {
     "slide_type": "skip"
    }
   },
   "outputs": [],
   "source": [
    "# Please decompress before running this command!\n",
    "traffic_matrix = pd.read_pickle(\"traffic_matrix.pickle\")"
   ]
  },
  {
   "cell_type": "markdown",
   "metadata": {
    "collapsed": true,
    "slideshow": {
     "slide_type": "slide"
    },
    "urth": {
     "dashboard": {
      "layout": {
       "col": 0,
       "height": 9,
       "row": 18,
       "width": 12
      }
     }
    }
   },
   "source": [
    "<h1>Prototyping explorative dashboards with\n",
    "Jupyter Notebooks</h1>\n",
    "<h2>(Examples from Network Engineering)</h2>\n",
    "<p><strong>Juan Camilo Cardona</strong></p>\n",
    "<strong>Cisco Systems</strong>\n",
    "<p>&nbsp;</p>\n",
    "<p>&nbsp;</p>\n"
   ]
  },
  {
   "cell_type": "markdown",
   "metadata": {
    "collapsed": true,
    "slideshow": {
     "slide_type": "slide"
    },
    "urth": {
     "dashboard": {
      "layout": {
       "col": 0,
       "height": 7,
       "row": 27,
       "width": 12
      }
     }
    }
   },
   "source": [
    "# Problem statement\n",
    "\n",
    "* Context: We are in charge of the analysis or processing of data for a project\n",
    "* These projects often require users to interact with our data / analysis\n",
    "    * Modify parameters of optimizations \n",
    "    * Trigger operations\n",
    "    * Explore the data by grouping and filtering "
   ]
  },
  {
   "cell_type": "markdown",
   "metadata": {
    "slideshow": {
     "slide_type": "slide"
    },
    "urth": {
     "dashboard": {
      "layout": {
       "col": 0,
       "height": 7,
       "row": 34,
       "width": 12
      }
     }
    }
   },
   "source": [
    "# Problem statement\n",
    "\n",
    "* The project UI probably relies in a web front-end framework\n",
    "    * Pretty and scalable, if well done\n",
    "* Usually not ready until later stages of the project\n",
    "* But, we need to receive feedback from users quickly!\n",
    "    * Validation\n",
    "    * Allows us to understand the data and the use case better\n",
    "    * Discover new features"
   ]
  },
  {
   "cell_type": "markdown",
   "metadata": {
    "slideshow": {
     "slide_type": "slide"
    },
    "urth": {
     "dashboard": {
      "layout": {
       "col": 0,
       "height": 7,
       "row": 41,
       "width": 12
      }
     }
    }
   },
   "source": [
    "# Problem statement\n",
    "* It might be cumbersome to implement a prototype on a javascript UI framework. \n",
    "* <span style=\"color:#4B0082\">How can we build a prototype without leaving our usual tools?</span>\n"
   ]
  },
  {
   "cell_type": "markdown",
   "metadata": {
    "slideshow": {
     "slide_type": "slide"
    },
    "urth": {
     "dashboard": {
      "layout": {
       "col": 0,
       "height": 5,
       "row": 48,
       "width": 12
      }
     }
    }
   },
   "source": [
    "# Proposal\n",
    "\n",
    "* Jupyter\n",
    "* Ipywidgets (jupyter-widgets) +  Jupyter-matplotlib \n",
    "* Jupyter-Dashboard\n",
    "\n",
    "<span style=\"color:#800000\">(Bokeh dashboards is an alternative)</span>"
   ]
  },
  {
   "cell_type": "markdown",
   "metadata": {
    "slideshow": {
     "slide_type": "slide"
    },
    "urth": {
     "dashboard": {
      "layout": {
       "col": 0,
       "height": 5,
       "row": 53,
       "width": 12
      }
     }
    }
   },
   "source": [
    "\n",
    "# Ipywidgets (jupyter-widgets)\n",
    "* Provides interactive HTML widgets for Jupyter\n",
    "    * Including Buttons, Text fields, HTML fields, etc."
   ]
  },
  {
   "cell_type": "code",
   "execution_count": 19,
   "metadata": {
    "slideshow": {
     "slide_type": "fragment"
    },
    "urth": {
     "dashboard": {
      "layout": {
       "col": 4,
       "height": 4,
       "row": 4,
       "width": 4
      }
     }
    }
   },
   "outputs": [
    {
     "data": {
      "application/vnd.jupyter.widget-view+json": {
       "model_id": "36d89b6c1a5e47028b9db79c7698dabd"
      }
     },
     "metadata": {},
     "output_type": "display_data"
    }
   ],
   "source": [
    "button_widget = widgets.Button(description=\"A Button\")\n",
    "display(button_widget)"
   ]
  },
  {
   "cell_type": "code",
   "execution_count": 20,
   "metadata": {
    "slideshow": {
     "slide_type": "-"
    },
    "urth": {
     "dashboard": {
      "layout": {
       "col": 8,
       "height": 4,
       "row": 4,
       "width": 4
      }
     }
    }
   },
   "outputs": [
    {
     "data": {
      "application/vnd.jupyter.widget-view+json": {
       "model_id": "fdd9457972d24be3884e209bc903e371"
      }
     },
     "metadata": {},
     "output_type": "display_data"
    }
   ],
   "source": [
    "text_widget = widgets.Text(value=\"Text box\")\n",
    "display(text_widget)"
   ]
  },
  {
   "cell_type": "markdown",
   "metadata": {
    "slideshow": {
     "slide_type": "slide"
    },
    "urth": {
     "dashboard": {
      "layout": {
       "col": 0,
       "height": 5,
       "row": 58,
       "width": 12
      }
     }
    }
   },
   "source": [
    "# Ipywidgets (jupyter-widgets)\n",
    "\n",
    "* Also includes Layout widgets to organize other widgets better \n",
    "    * Boxes, Tabs, and accordion\n",
    "* Layout widgets can have other widget as children (including other layout widgets)\n"
   ]
  },
  {
   "cell_type": "code",
   "execution_count": 21,
   "metadata": {
    "collapsed": true,
    "slideshow": {
     "slide_type": "skip"
    },
    "urth": {
     "dashboard": {
      "layout": {
       "col": 4,
       "height": 4,
       "row": 8,
       "width": 4
      }
     }
    }
   },
   "outputs": [],
   "source": [
    "# redefine the buttons and text box, to avoid any problem.\n",
    "button_1 = widgets.Button(description=\"Button1\")\n",
    "text_1 = widgets.Text(value=\"text1\")\n",
    "button_2 = widgets.Button(description=\"Button2\")\n",
    "text_2 = widgets.Text(value=\"text2\")\n",
    "# Code for naming tabs on the constructor from http://qiita.com/driller/items/3f53d80a159c29c3d393"
   ]
  },
  {
   "cell_type": "code",
   "execution_count": 22,
   "metadata": {
    "slideshow": {
     "slide_type": "-"
    },
    "urth": {
     "dashboard": {
      "layout": {
       "col": 0,
       "height": 4,
       "row": 63,
       "width": 11
      }
     }
    }
   },
   "outputs": [
    {
     "data": {
      "application/vnd.jupyter.widget-view+json": {
       "model_id": "ac8401e7986d4cdd9704ec337b8c8956"
      }
     },
     "metadata": {},
     "output_type": "display_data"
    }
   ],
   "source": [
    "# button_1, button_2, text_1, text_2 were defined in other cell.\n",
    "box_1 = widgets.VBox(children=(button_1, text_1))\n",
    "layout_description = widgets.Layout(width='1000px', flex_flow='row', \n",
    "                                    justify_content='space-between')\n",
    "box_2 = widgets.HBox(children=(button_2, text_2), layout=layout_description)\n",
    "display(widgets.Tab(children=(box_1, box_2), _titles={0: \"V\", 1:\"H\"}))"
   ]
  },
  {
   "cell_type": "markdown",
   "metadata": {
    "slideshow": {
     "slide_type": "slide"
    },
    "urth": {
     "dashboard": {
      "layout": {
       "col": 0,
       "height": 4,
       "row": 67,
       "width": 12
      }
     }
    }
   },
   "source": [
    "# Ipywidgets (jupyter-widgets)\n",
    "* Basic interaction callbacks\n"
   ]
  },
  {
   "cell_type": "code",
   "execution_count": 23,
   "metadata": {
    "collapsed": true,
    "slideshow": {
     "slide_type": "skip"
    },
    "urth": {
     "dashboard": {}
    }
   },
   "outputs": [],
   "source": [
    "# redefine the buttons and text box, to avoid any problem.\n",
    "other_button_widget = widgets.Button(description=\"Button\")\n",
    "other_text_widget = widgets.Text(\"other_text_widget\")"
   ]
  },
  {
   "cell_type": "code",
   "execution_count": 24,
   "metadata": {
    "slideshow": {
     "slide_type": "-"
    },
    "urth": {
     "dashboard": {
      "layout": {
       "col": 8,
       "height": 4,
       "row": 8,
       "width": 4
      }
     }
    }
   },
   "outputs": [
    {
     "data": {
      "application/vnd.jupyter.widget-view+json": {
       "model_id": "0f04b74b460141a7b2d58af2c0a3cfa3"
      }
     },
     "metadata": {},
     "output_type": "display_data"
    }
   ],
   "source": [
    "# other_text_widget and other_button_widget were defined in other cell.\n",
    "def fill_text(caller=None):\n",
    "    other_text_widget.value = \"Button was pressed\"\n",
    "    other_text_widget.disabled = False\n",
    "        \n",
    "def disable_text(caller=None):\n",
    "    caller['owner'].disabled = True\n",
    "\n",
    "other_button_widget.on_click(fill_text)\n",
    "other_text_widget.observe(disable_text, names=\"value\")\n",
    "box = widgets.HBox(children=(other_button_widget, other_text_widget))\n",
    "display(box)"
   ]
  },
  {
   "cell_type": "markdown",
   "metadata": {
    "slideshow": {
     "slide_type": "slide"
    },
    "urth": {
     "dashboard": {}
    }
   },
   "source": [
    "# Ipywidgets (jupyter-widgets)\n",
    "## [**Jupyter-matlotlib**](https://github.com/matplotlib/jupyter-matplotlib) \n",
    "* A widget for matplot figures\n",
    "* bqplot is an alternative"
   ]
  },
  {
   "cell_type": "markdown",
   "metadata": {
    "slideshow": {
     "slide_type": "slide"
    },
    "urth": {
     "dashboard": {
      "layout": {
       "col": 4,
       "height": 4,
       "row": 12,
       "width": 4
      }
     }
    }
   },
   "source": [
    "# Ipywidgets (jupyter-widgets)\n",
    "## [**Jupyter-matlotlib**](https://github.com/matplotlib/jupyter-matplotlib) "
   ]
  },
  {
   "cell_type": "code",
   "execution_count": 25,
   "metadata": {
    "slideshow": {
     "slide_type": "fragment"
    },
    "urth": {
     "dashboard": {
      "layout": {
       "col": 0,
       "height": 14,
       "row": 71,
       "width": 4
      }
     }
    }
   },
   "outputs": [
    {
     "data": {
      "application/vnd.jupyter.widget-view+json": {
       "model_id": "364921e12d574cac9321a216ad5419d2"
      }
     },
     "metadata": {},
     "output_type": "display_data"
    }
   ],
   "source": [
    "figure, axis = plt.subplots()\n",
    "figure.set_size_inches([ 6,  3 ])\n",
    "button_mpl = widgets.Button(description=\"Clear Figure\")\n",
    "button_mpl.on_click(lambda _: (axis.clear(), plt.draw_all()))\n",
    "button_mpl_2 = widgets.Button(description=\"Draw Figure\")\n",
    "button_mpl_2.on_click(lambda _: (axis.plot([0, 1, 2, 1]), plt.draw_all()))\n",
    "axis.plot([0, 1, 2, 1])\n",
    "box = widgets.HBox(children=(figure.canvas, button_mpl, button_mpl_2))\n",
    "display(box)"
   ]
  },
  {
   "cell_type": "markdown",
   "metadata": {
    "slideshow": {
     "slide_type": "slide"
    },
    "urth": {
     "dashboard": {}
    }
   },
   "source": [
    "# Jupyter-Dashboard\n",
    "\n",
    "* Allows the user to arrange the cells outputs in different layouts."
   ]
  },
  {
   "cell_type": "markdown",
   "metadata": {
    "slideshow": {
     "slide_type": "slide"
    },
    "urth": {
     "dashboard": {
      "layout": {
       "col": 8,
       "height": 4,
       "row": 0,
       "width": 4
      }
     }
    }
   },
   "source": [
    "# Why did it work for me ?\n",
    "\n",
    "* Far from ideal for production, but great for prototypes!\n",
    "* I needed to show text, graphs, and tables\n",
    "    * Jupyter-matplotlib supports the widget for the figures\n",
    "    * Data Frames can be depicted using HTML widgets\n",
    "        * The style option in DataFrames is very useful\n",
    "        * <span style=\"color:#800000\">(We still need a better dataframe widget)</span>"
   ]
  },
  {
   "cell_type": "markdown",
   "metadata": {
    "slideshow": {
     "slide_type": "slide"
    }
   },
   "source": [
    "# Why did it work for me ?\n",
    "\n",
    "* Use a \"lego\" approach to build elements  \n",
    "    * Widgets are python objects. They can be passed to (returned by) functions\n",
    "    * Collections of widgets can be \"hidden\" behind a single layout widget\n",
    "* Easy way of distributing widgets on the screen."
   ]
  },
  {
   "cell_type": "markdown",
   "metadata": {
    "slideshow": {
     "slide_type": "slide"
    }
   },
   "source": [
    "# Toy example"
   ]
  },
  {
   "cell_type": "markdown",
   "metadata": {
    "slideshow": {
     "slide_type": "slide"
    }
   },
   "source": [
    "# Toy example\n",
    "## Exploring the Internet traffic of a network\n",
    "### Introduction\n",
    "* The Internet is formed by the interconnection of around 55k networks, denominated Autonomous Systems."
   ]
  },
  {
   "attachments": {
    "internet.jpg": {
     "image/jpeg": "[encoded data removed]"
    }
   },
   "cell_type": "markdown",
   "metadata": {},
   "source": [
    "<center>![internet.jpg](attachment:internet.jpg)</center>"
   ]
  },
  {
   "cell_type": "markdown",
   "metadata": {
    "slideshow": {
     "slide_type": "slide"
    }
   },
   "source": [
    "# Toy example\n",
    "## Exploring the Internet traffic of a network\n",
    "### Introduction\n",
    "* ASes establish connectivity based on their business interest.\n",
    "    * Eg. Customer ASes pay their transit ASes for connectivity\n",
    "    * Eg. ASes can establish settlement free peerings, and share interconnection costs."
   ]
  },
  {
   "cell_type": "code",
   "execution_count": 26,
   "metadata": {
    "collapsed": true,
    "slideshow": {
     "slide_type": "skip"
    },
    "urth": {
     "dashboard": {}
    }
   },
   "outputs": [],
   "source": [
    "cp_i = widgets.Image(value=open(\"customer_provider.png\", \"rb\").read(), format='png', width=140, height=200)\n",
    "p_i = widgets.Image(value=open(\"peerings.png\", \"rb\").read(), format='png', width=300, height=100)\n",
    "images = widgets.HBox(children=(cp_i, p_i), \n",
    "                     layout=widgets.Layout(width='1000px', flex_flow='row', justify_content='center'))"
   ]
  },
  {
   "cell_type": "code",
   "execution_count": 27,
   "metadata": {
    "slideshow": {
     "slide_type": "-"
    }
   },
   "outputs": [
    {
     "data": {
      "application/vnd.jupyter.widget-view+json": {
       "model_id": "a3621292de514cb4a1d824b12a34d599"
      }
     },
     "metadata": {},
     "output_type": "display_data"
    }
   ],
   "source": [
    "display(images)"
   ]
  },
  {
   "cell_type": "markdown",
   "metadata": {
    "slideshow": {
     "slide_type": "slide"
    }
   },
   "source": [
    "# Toy example\n",
    "## Exploring the Internet traffic of a network\n",
    "### Introduction\n",
    "\n",
    "* the Border Gateway Protocol (BGP) is the protocol used to exchange reachability information \n",
    "    * As with most routing protocols, BGP does not deal with traffic congestions.\n",
    "    * Therefore, it is up to the operator to deal with congestion by balancing traffic across feasible links.\n",
    "    * This is normally call traffic engineering.\n"
   ]
  },
  {
   "cell_type": "markdown",
   "metadata": {
    "slideshow": {
     "slide_type": "slide"
    }
   },
   "source": [
    "# Toy example\n",
    "## Exploring the Internet traffic of a network\n",
    "### Data set\n",
    "* Fictitious traffic of a Transit providers with six neighboring networks."
   ]
  },
  {
   "cell_type": "code",
   "execution_count": 28,
   "metadata": {},
   "outputs": [
    {
     "data": {
      "text/html": [
       "<div>\n",
       "<table border=\"1\" class=\"dataframe\">\n",
       "  <thead>\n",
       "    <tr style=\"text-align: right;\">\n",
       "      <th></th>\n",
       "      <th>DST_NET</th>\n",
       "      <th>SRC_NET</th>\n",
       "      <th>TIME</th>\n",
       "      <th>SRC_ROUTER</th>\n",
       "      <th>DST_ROUTER</th>\n",
       "      <th>SRC_AS</th>\n",
       "      <th>DST_AS</th>\n",
       "      <th>EGRESS_LINK</th>\n",
       "      <th>INGRESS_LINK</th>\n",
       "      <th>BW</th>\n",
       "    </tr>\n",
       "  </thead>\n",
       "  <tbody>\n",
       "    <tr>\n",
       "      <th>0</th>\n",
       "      <td>2001:db8:0110::0/48</td>\n",
       "      <td>2001:db8:0210::0/48</td>\n",
       "      <td>2012-04-27 20:29:59.999997</td>\n",
       "      <td>Frankfurt</td>\n",
       "      <td>Frankfurt</td>\n",
       "      <td>6501</td>\n",
       "      <td>6500</td>\n",
       "      <td>Frankfurt_0</td>\n",
       "      <td>Frankfurt_1</td>\n",
       "      <td>3.217862e+06</td>\n",
       "    </tr>\n",
       "    <tr>\n",
       "      <th>1</th>\n",
       "      <td>2001:db8:0110::0/48</td>\n",
       "      <td>2001:db8:0210::0/48</td>\n",
       "      <td>2012-04-27 21:00:00.000000</td>\n",
       "      <td>Frankfurt</td>\n",
       "      <td>Frankfurt</td>\n",
       "      <td>6501</td>\n",
       "      <td>6500</td>\n",
       "      <td>Frankfurt_0</td>\n",
       "      <td>Frankfurt_1</td>\n",
       "      <td>3.496796e+06</td>\n",
       "    </tr>\n",
       "    <tr>\n",
       "      <th>2</th>\n",
       "      <td>2001:db8:0110::0/48</td>\n",
       "      <td>2001:db8:0210::0/48</td>\n",
       "      <td>2012-04-27 21:30:00.000003</td>\n",
       "      <td>Frankfurt</td>\n",
       "      <td>Frankfurt</td>\n",
       "      <td>6501</td>\n",
       "      <td>6500</td>\n",
       "      <td>Frankfurt_0</td>\n",
       "      <td>Frankfurt_1</td>\n",
       "      <td>3.359184e+06</td>\n",
       "    </tr>\n",
       "    <tr>\n",
       "      <th>3</th>\n",
       "      <td>2001:db8:0110::0/48</td>\n",
       "      <td>2001:db8:0210::0/48</td>\n",
       "      <td>2012-04-27 21:59:59.999997</td>\n",
       "      <td>Frankfurt</td>\n",
       "      <td>Frankfurt</td>\n",
       "      <td>6501</td>\n",
       "      <td>6500</td>\n",
       "      <td>Frankfurt_0</td>\n",
       "      <td>Frankfurt_1</td>\n",
       "      <td>3.760496e+06</td>\n",
       "    </tr>\n",
       "    <tr>\n",
       "      <th>4</th>\n",
       "      <td>2001:db8:0110::0/48</td>\n",
       "      <td>2001:db8:0210::0/48</td>\n",
       "      <td>2012-04-27 22:30:00.000000</td>\n",
       "      <td>Frankfurt</td>\n",
       "      <td>Frankfurt</td>\n",
       "      <td>6501</td>\n",
       "      <td>6500</td>\n",
       "      <td>Frankfurt_0</td>\n",
       "      <td>Frankfurt_1</td>\n",
       "      <td>3.194238e+06</td>\n",
       "    </tr>\n",
       "  </tbody>\n",
       "</table>\n",
       "</div>"
      ],
      "text/plain": [
       "               DST_NET              SRC_NET                       TIME  \\\n",
       "0  2001:db8:0110::0/48  2001:db8:0210::0/48 2012-04-27 20:29:59.999997   \n",
       "1  2001:db8:0110::0/48  2001:db8:0210::0/48 2012-04-27 21:00:00.000000   \n",
       "2  2001:db8:0110::0/48  2001:db8:0210::0/48 2012-04-27 21:30:00.000003   \n",
       "3  2001:db8:0110::0/48  2001:db8:0210::0/48 2012-04-27 21:59:59.999997   \n",
       "4  2001:db8:0110::0/48  2001:db8:0210::0/48 2012-04-27 22:30:00.000000   \n",
       "\n",
       "  SRC_ROUTER DST_ROUTER  SRC_AS  DST_AS  EGRESS_LINK INGRESS_LINK  \\\n",
       "0  Frankfurt  Frankfurt    6501    6500  Frankfurt_0  Frankfurt_1   \n",
       "1  Frankfurt  Frankfurt    6501    6500  Frankfurt_0  Frankfurt_1   \n",
       "2  Frankfurt  Frankfurt    6501    6500  Frankfurt_0  Frankfurt_1   \n",
       "3  Frankfurt  Frankfurt    6501    6500  Frankfurt_0  Frankfurt_1   \n",
       "4  Frankfurt  Frankfurt    6501    6500  Frankfurt_0  Frankfurt_1   \n",
       "\n",
       "             BW  \n",
       "0  3.217862e+06  \n",
       "1  3.496796e+06  \n",
       "2  3.359184e+06  \n",
       "3  3.760496e+06  \n",
       "4  3.194238e+06  "
      ]
     },
     "execution_count": 28,
     "metadata": {},
     "output_type": "execute_result"
    }
   ],
   "source": [
    "traffic_matrix.head()"
   ]
  },
  {
   "cell_type": "markdown",
   "metadata": {
    "slideshow": {
     "slide_type": "slide"
    }
   },
   "source": [
    "# Toy example\n",
    "## Exploring the Internet traffic of a network\n",
    "### Use cases\n",
    "* Provide an interface to explore the data\n",
    "* Allow the user basic functions to select and balance ingress and egress traffic \n",
    "<p>\n",
    "<p>\n"
   ]
  },
  {
   "cell_type": "markdown",
   "metadata": {
    "slideshow": {
     "slide_type": "slide"
    }
   },
   "source": [
    "# Workflow\n",
    "1. Operators select (filter) the traffic  wants to explore\n",
    "2. Operators can choose between exploring:\n",
    "    * Traffic matrix within the network\n",
    "    * Ingress traffic\n",
    "    * Egress traffic\n",
    "3. For ingress and egress traffic, we provide the option of calculating changes to get a proper load balancing.\n",
    "\n",
    "** Most of the data is a time series. Let us create a set of widgets that can help us visualize and explore this type of data. **"
   ]
  },
  {
   "cell_type": "markdown",
   "metadata": {
    "slideshow": {
     "slide_type": "skip"
    }
   },
   "source": [
    "# Toy example\n",
    "## Exploring the Internet traffic of a network\n",
    "### Introduction\n",
    "* Operators of Internet networks can use their traffic data, to decide among others: \n",
    "    * Long terms infrastructure changes: establish new peerings, open new pops, install new backup links.\n",
    "    * Perform traffic engineering: e.g. Move traffic across links to improve performance "
   ]
  },
  {
   "cell_type": "markdown",
   "metadata": {
    "slideshow": {
     "slide_type": "slide"
    }
   },
   "source": [
    "# Toy example\n",
    "## Creating a traffic \"exploration\" widget\n",
    "* Use a graph to show the traffic in time.\n",
    "* Use a table to show the summary (sum) of traffic for the individual flows.\n",
    "* Allows users to select the characteristics over which they want to aggregate\n",
    "    * There can be millions of flows in the data\n",
    "    * The widget should only show the top N flows (and takes care of calculating them)"
   ]
  },
  {
   "cell_type": "code",
   "execution_count": 29,
   "metadata": {
    "collapsed": true,
    "slideshow": {
     "slide_type": "skip"
    }
   },
   "outputs": [],
   "source": [
    "# I am copyting manually the same code as the \"dashboard.ipynb\" notebook.\n",
    "# there are ways of importing functions from notebooks, but they look complicated (at least here http://jupyter-notebook.readthedocs.io/en/latest/examples/Notebook/Importing%20Notebooks.html)\n",
    "# I could had also defined this in a python file, but I thought it was better in thenotebook.\n",
    "def ts_widget(df_traffic, aggregation_columns=None, \n",
    "                        time_column=\"TIME\", value_column=\"BW\", \n",
    "                        top_flows_to_show=5, align_vertically=True):\n",
    "    '''\n",
    "    Returns a Box widget containing various widgets used to depict and explore a time series data frame.\n",
    "    the widget contains:\n",
    "    - A HTML and a figure widget used to depict the data of the aggregated data frame.\n",
    "    - A set of check boxes to allow users to select the characteristics shown that are depicted in the figure and table.\n",
    "    - An update button used to refresh the table and graph widgets when the user changes the checkboxes.\n",
    "    - A Text box which contains information on the state of the widget (E.g. Processing, Updated, etc.)\n",
    "    \n",
    "    The graph and the table are placed horizontally if the align_vertically is False. If selected, a horizontal \n",
    "    widget is more compact, but cannot show that much information.\n",
    "    \n",
    "    The update function of the update button is a nested function and uses non-local variables.\n",
    "    '''\n",
    "    \n",
    "    # Get the list of aggregation columns. It defaults to any non-time, non-value column in the df.\n",
    "    if aggregation_columns is None:\n",
    "        aggregation_columns = list(set(df_traffic.columns) - {time_column, value_column})\n",
    "        aggregation_columns = sorted(aggregation_columns)\n",
    "    else:\n",
    "        aggregation_columns = list(aggregation_columns)\n",
    "    \n",
    "    # Defines the layout objects that we will use depending on the widget layout (horizontal or vertical).\n",
    "    # The values here defined were obtained with trial and error :)\n",
    "    \n",
    "    # The only fancy thing here is the use of a variable traffic_traph_box_widget to define whether the \n",
    "    # graph and table box is vertical or horizontal\n",
    "    if align_vertically:\n",
    "        all_widget_height = \"1050px\"\n",
    "        all_widget_width = \"1000px\"\n",
    "        \n",
    "        table_height = \"400px\"\n",
    "        table_width = all_widget_width\n",
    "        \n",
    "        graph_table_height = '950px'\n",
    "        \n",
    "        traffic_traph_box_widget =  widgets.VBox\n",
    "        figure_size = [ 9.1,  4.8 ]\n",
    "    else:\n",
    "        all_widget_height = \"700px\"\n",
    "        all_widget_width = \"1000px\"\n",
    "        \n",
    "        graph_table_height = '650px'\n",
    "        \n",
    "        table_height = \"600px\"\n",
    "        table_width = \"500px\"\n",
    "                \n",
    "        traffic_traph_box_widget =  widgets.HBox\n",
    "        figure_size = [ 4.8,  4.8 ]\n",
    "        \n",
    "    # define the main widget.\n",
    "    ts_main_widget = widgets.VBox(layout=widgets.Layout(height=all_widget_height, width=all_widget_width))\n",
    "    \n",
    "    # the main widget is formed by a control box and the graph_table_box.\n",
    "    # The control box which contains the check boxes, update butoon and information box.\n",
    "    # the graph_and table box is self-described.\n",
    "    control_information_box = widgets.VBox()\n",
    "    graph_table_box = traffic_traph_box_widget(layout=widgets.Layout(height=graph_table_height, \n",
    "                                                                     width=all_widget_width))\n",
    "    ts_main_widget.children = (control_information_box, graph_table_box)\n",
    "       \n",
    "    # Control box\n",
    "    # the control box is itself formed by:\n",
    "    # * another box holding the checkboxes\n",
    "    # * the update button\n",
    "    # * The information text\n",
    "    # The first two elements are horitzontally alligned using a box called cbx_update_box\n",
    "    \n",
    "    cbx_update_box = widgets.HBox()\n",
    "    information_widget = widgets.Text(disabled=True, description=\"State:\")\n",
    "    control_information_box.children = (cbx_update_box, information_widget)\n",
    "    \n",
    "    # the cbx is itself divided into the check_box box and the update button.\n",
    "    # I place the check boxes into their own box to let them have a box space.\n",
    "   \n",
    "    check_boxes = {}\n",
    "    check_boxes_box = widgets.HBox(layout=widgets.Layout(overflow_x='scroll', height='50px', width='850px'))\n",
    "    for level in aggregation_columns:\n",
    "        # Create check boxes for each TS characteristic column.\n",
    "        this_checkbox = widgets.Checkbox(description=level)\n",
    "        check_boxes_box.children = check_boxes_box.children + (this_checkbox,)\n",
    "        this_checkbox.value = False\n",
    "        check_boxes[level] = this_checkbox\n",
    "\n",
    "    # Update button\n",
    "    refresh_button = widgets.Button(description=\"Update\")\n",
    "    cbx_update_box.children = (check_boxes_box, refresh_button)\n",
    "\n",
    "    # Now, let us finish with the graph and table box.\n",
    "    fig_prefix_distribution, ax_prefix_distribution = plt.subplots()\n",
    "    this_canvas = fig_prefix_distribution.canvas\n",
    "    fig_prefix_distribution.set_size_inches(figure_size)\n",
    "    this_canvas.figure.set_label(\"{}\".format(\"Figure\"))\n",
    "\n",
    "    table_box_layout = widgets.Layout(overflow_x='scroll',\n",
    "                                overflow_y='scroll',\n",
    "                    #border='3px solid black',\n",
    "                    width=table_width,\n",
    "                    height=table_height,\n",
    "                    flex_direction='row',\n",
    "                    display='flex')\n",
    "\n",
    "    table_widget = widgets.HTML()\n",
    "    table_box_widget = widgets.VBox(children=(table_widget,), layout=table_box_layout)\n",
    "\n",
    "    graph_table_box.children = (this_canvas, table_box_widget)\n",
    "\n",
    "    # Finally, define the update function and assign it to the butotn\n",
    "    def update_compound_widget(caller=None):\n",
    "        '''\n",
    "        The update function checks the aggrupation characteristics, calculates the resulting df,\n",
    "        and updates the table and graph.\n",
    "        '''\n",
    "\n",
    "        information_widget.value = \"Updating...\"\n",
    "        # find the aggregation level using the check boxes\n",
    "        aggregation_level = []\n",
    "        \n",
    "        for level in check_boxes:\n",
    "            check_box = check_boxes[level]\n",
    "\n",
    "            if check_box.value:\n",
    "                aggregation_level.append(level)\n",
    "\n",
    "        table_df, graph_df = process_df_for_widget(df_traffic, aggregation_columns=aggregation_level, \n",
    "                                                   value_column=value_column, time_column=time_column, \n",
    "                                                   top_flows_to_show=top_flows_to_show)\n",
    "        \n",
    "        ax_prefix_distribution.clear()\n",
    "        aggregation_column_name = next(iter(set(graph_df.columns) - {time_column, value_column}))\n",
    "\n",
    "        graph_df.plot.area(ax=ax_prefix_distribution)\n",
    "\n",
    "        ax_prefix_distribution.legend_.remove()\n",
    "        ax_prefix_distribution.legend(bbox_to_anchor=(0.1, 0.85, 0.9, .105), loc=3,\n",
    "                   ncol=2, mode=None, borderaxespad=0.1, fontsize=8) \n",
    "        ax_prefix_distribution.set_ylabel(value_column)\n",
    "        table_widget.value = table_df.style.set_table_attributes('class=\"table\"').set_table_styles([hover()]).render()\n",
    "\n",
    "        information_widget.value = \"Redrawing...\"\n",
    "        plt.draw_all()\n",
    "        information_widget.value = \"Done\"\n",
    "        \n",
    "    refresh_button.on_click(update_compound_widget)\n",
    "    return ts_main_widget"
   ]
  },
  {
   "cell_type": "code",
   "execution_count": 30,
   "metadata": {
    "slideshow": {
     "slide_type": "slide"
    }
   },
   "outputs": [
    {
     "data": {
      "application/vnd.jupyter.widget-view+json": {
       "model_id": "b256500950cc4a719eca0aa9a97a704c"
      }
     },
     "metadata": {},
     "output_type": "display_data"
    }
   ],
   "source": [
    "ts_widget(traffic_matrix, top_flows_to_show=10, align_vertically=False, \n",
    "          time_column=\"TIME\", value_column=\"BW\")"
   ]
  },
  {
   "cell_type": "markdown",
   "metadata": {
    "slideshow": {
     "slide_type": "slide"
    }
   },
   "source": [
    "# Conclusion\n",
    "In prototyping, the perfect is the enemy of \"getting things done\".\n",
    "\n",
    "This set of libraries do have some technical limitations.\n",
    "\n",
    "Spend enough time to convey your ideas, but do not exaggerate.\n"
   ]
  },
  {
   "cell_type": "markdown",
   "metadata": {
    "collapsed": true,
    "slideshow": {
     "slide_type": "slide"
    }
   },
   "source": [
    "# Questions?\n",
    "<p>\n",
    "<p>\n",
    "### Code in: \n",
    "https://github.com/jccardonar/pydata_bcn_presentation"
   ]
  },
  {
   "cell_type": "code",
   "execution_count": null,
   "metadata": {
    "collapsed": true,
    "slideshow": {
     "slide_type": "skip"
    }
   },
   "outputs": [],
   "source": []
  }
 ],
 "metadata": {
  "celltoolbar": "Slideshow",
  "kernelspec": {
   "display_name": "Python 3",
   "language": "python",
   "name": "python3"
  },
  "language_info": {
   "codemirror_mode": {
    "name": "ipython",
    "version": 3
   },
   "file_extension": ".py",
   "mimetype": "text/x-python",
   "name": "python",
   "nbconvert_exporter": "python",
   "pygments_lexer": "ipython3",
   "version": "3.6.0"
  },
  "urth": {
   "dashboard": {
    "cellMargin": 10,
    "defaultCellHeight": 20,
    "layoutStrategy": "packed",
    "maxColumns": 12
   }
  }
 },
 "nbformat": 4,
 "nbformat_minor": 2
}
